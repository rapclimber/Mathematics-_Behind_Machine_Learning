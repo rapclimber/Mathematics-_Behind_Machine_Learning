{
 "cells": [
  {
   "cell_type": "code",
   "execution_count": 1,
   "metadata": {},
   "outputs": [],
   "source": [
    "# -------------------------------------------------------------------\n",
    "# Linear regression using gradient descent\n",
    "\n",
    "# Equation of straight line: y = mx + b\n",
    "\n",
    "# m is slope\n",
    "# b is y-intercept\n",
    "# -------------------------------------------------------------------\n",
    "\n",
    "import numpy as np"
   ]
  },
  {
   "cell_type": "code",
   "execution_count": 2,
   "metadata": {},
   "outputs": [],
   "source": [
    "# Calculating y value using current (b, m) them subtracting it by actual y value we get our error for a point\n",
    "# Squaring to get postive value and to get local minimum as it is Parabolic function\n",
    "# finally dividing to calculate average\n",
    "def compute_error(b, m, points):\n",
    "    total_error = 0\n",
    "    for i in range(0, len(points)):\n",
    "        x = points[i, 0]\n",
    "        y = points[i, 1]\n",
    "        total_error += (y - (m * x + b)) ** 2\n",
    "\n",
    "    return total_error / float(len(points))"
   ]
  },
  {
   "cell_type": "markdown",
   "metadata": {},
   "source": [
    "<img src=\"error_function.png\">"
   ]
  },
  {
   "cell_type": "code",
   "execution_count": 3,
   "metadata": {},
   "outputs": [],
   "source": [
    "# Meat of the program optimizing by calulating partial derivative \n",
    "def step_gradient(b_current, m_current, points, learningRate):\n",
    "    b_gradient = 0\n",
    "    m_gradient = 0\n",
    "    N = float(len(points))\n",
    "    for i in range(0, len(points)):\n",
    "        x = points[i, 0]\n",
    "        y = points[i, 1]\n",
    "        # 2 from derivate of square\n",
    "        # / N for average\n",
    "        # 2 y - y (calculated)\n",
    "        b_gradient += (2/N) * (y - ((m_current * x) + b_current)) # Partial derivative with respect to b\n",
    "        m_gradient += (2/N) * x * (y - ((m_current * x) + b_current)) # Partial derivative with respect to m\n",
    "        \n",
    "    # From derivative we get direction and by multyplying it from learning rate we reduce error\n",
    "    new_b = b_current + (learningRate * b_gradient)\n",
    "    new_m = m_current + (learningRate * m_gradient)\n",
    "\n",
    "    return [new_b, new_m]"
   ]
  },
  {
   "cell_type": "code",
   "execution_count": 4,
   "metadata": {},
   "outputs": [],
   "source": [
    "# Performing step_gradient 1000 times and updating (b, m) accordingly\n",
    "def gradient_descent_runner(points, starting_b, starting_m, learning_rate, iterations):\n",
    "    b = starting_b\n",
    "    m = starting_m\n",
    "    for i in range(iterations):\n",
    "        b, m = step_gradient(b, m, np.array(points), learning_rate)\n",
    "\n",
    "    return [b, m]"
   ]
  },
  {
   "cell_type": "code",
   "execution_count": 5,
   "metadata": {},
   "outputs": [],
   "source": [
    "# Predict new point (y) given (x, m and b)  \n",
    "def predict(x, m, b):\n",
    "    return (m * x) + b"
   ]
  },
  {
   "cell_type": "code",
   "execution_count": 11,
   "metadata": {},
   "outputs": [
    {
     "name": "stdout",
     "output_type": "stream",
     "text": [
      "Initial_b: 0\n",
      "Initial_m: 0\n",
      "Error: 5562.977159312569\n",
      "Prediction: 0.0\n",
      "\n",
      "After Training\n",
      "\n",
      "Updated_b: 0.32192936901782715\n",
      "Updated_m: 1.4727969824643692\n",
      "Error: 115.36161807826575\n",
      "Prediction: 47.699555971299404\n"
     ]
    }
   ],
   "source": [
    "# Initializing\n",
    "points = np.genfromtxt('gradient_descent.csv', delimiter=',')\n",
    "learning_rate = 0.0001\n",
    "initial_b = 0\n",
    "initial_m = 0\n",
    "iterations = 5000\n",
    "\n",
    "print('Initial_b: ' + str(initial_b))\n",
    "print('Initial_m: ' + str(initial_m))\n",
    "print('Error: ' + str(compute_error(initial_b, initial_m, points)))\n",
    "print('Prediction: ' + str(predict(32.16847071685779, initial_m, initial_b)))\n",
    "\n",
    "print(\"\\nAfter Training\\n\")\n",
    "[b, m] = gradient_descent_runner(points, initial_b, initial_m, learning_rate, iterations)\n",
    "\n",
    "print('Updated_b: ' + str(b))\n",
    "print('Updated_m: ' + str(m))\n",
    "print('Error: ' + str(compute_error(b, m, points)))\n",
    "print('Prediction: ' + str(predict(32.16847071685779, m, b)))"
   ]
  }
 ],
 "metadata": {
  "kernelspec": {
   "display_name": "Python 3",
   "language": "python",
   "name": "python3"
  },
  "language_info": {
   "codemirror_mode": {
    "name": "ipython",
    "version": 3
   },
   "file_extension": ".py",
   "mimetype": "text/x-python",
   "name": "python",
   "nbconvert_exporter": "python",
   "pygments_lexer": "ipython3",
   "version": "3.7.0"
  }
 },
 "nbformat": 4,
 "nbformat_minor": 2
}
